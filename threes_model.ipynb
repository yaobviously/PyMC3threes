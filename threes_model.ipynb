{
  "nbformat": 4,
  "nbformat_minor": 0,
  "metadata": {
    "colab": {
      "name": "threes_model.ipynb",
      "provenance": [],
      "collapsed_sections": [],
      "authorship_tag": "ABX9TyNpyO6AVFxzdEtjKIuUhmxf",
      "include_colab_link": true
    },
    "kernelspec": {
      "name": "python3",
      "display_name": "Python 3"
    },
    "language_info": {
      "name": "python"
    }
  },
  "cells": [
    {
      "cell_type": "markdown",
      "metadata": {
        "id": "view-in-github",
        "colab_type": "text"
      },
      "source": [
        "<a href=\"https://colab.research.google.com/github/yaobviously/PyMC3threes/blob/main/threes_model.ipynb\" target=\"_parent\"><img src=\"https://colab.research.google.com/assets/colab-badge.svg\" alt=\"Open In Colab\"/></a>"
      ]
    },
    {
      "cell_type": "code",
      "metadata": {
        "id": "ENnK56TWpxsa"
      },
      "source": [
        "!pip install arviz==0.6.1\n",
        "!pip install pymc3==3.8\n",
        "!pip install Theano==1.0.4\n",
        " \n",
        "import pymc3 as pm\n",
        "import arviz as az\n",
        "import theano as tt\n",
        "import pandas as pd\n",
        "import numpy as np\n",
        "import seaborn as sns\n",
        " \n",
        "threes_small_url = r'https://github.com/yaobviously/PyMC3threes/raw/main/threesmodel_small.csv'\n",
        "threes_full_url = r'https://github.com/yaobviously/PyMC3threes/raw/main/threesfull.csv'"
      ],
      "execution_count": null,
      "outputs": []
    },
    {
      "cell_type": "code",
      "metadata": {
        "id": "YUg5S4cVrnfG",
        "colab": {
          "base_uri": "https://localhost:8080/"
        },
        "outputId": "badf1d9b-2d7a-4e6f-f341-c91041555543"
      },
      "source": [
        "threes_data = pd.read_csv(threes_full_url)\n",
        "\n",
        "# Player type labelling to add another level in future\n",
        "\n",
        "players = threes_data['Player']\n",
        "        \n",
        "threes_att = np.array(threes_data['3PA']).T\n",
        "threes_made = np.array(threes_data['3P']).T\n",
        "\n",
        "sample_size = len(threes_att)\n"
      ],
      "execution_count": 3,
      "outputs": [
        {
          "output_type": "stream",
          "text": [
            "272\n"
          ],
          "name": "stdout"
        }
      ]
    },
    {
      "cell_type": "code",
      "metadata": {
        "id": "9V-9-44Osw65"
      },
      "source": [
        "# Specifying the model\n",
        "\n",
        "with pm.Model() as threes_model:\n",
        "\n",
        "# This line specifies a uniform distribution over the prior probability of the\n",
        "# sample's mean three point percentage\n",
        "\n",
        "  phi = pm.Uniform('phi', lower = 0.0, upper = 1.0)\n",
        " \n",
        "# These lines specify an exponential prior over kappa that is transformed\n",
        "# into kappa.\n",
        "\n",
        "  kappa_log = pm.Exponential(\"kappa_log\", lam = 1.5)\n",
        "  kappa = pm.Deterministic(\"kappa\", np.exp(kappa_log))\n",
        "\n",
        "# Each player gets their own 'theta', or estimated three point percentage. It is drawn\n",
        "# from a combination specified by phi and kappa.\n",
        "\n",
        "  thetas = pm.Beta(\"thetas\", alpha = phi * kappa, beta = (1 - phi) * kappa, shape = sample_size)\n",
        "\n",
        "# This specifies the proximate process generating the observations: the total number \n",
        "# of threes made. n = attempts, p = probability of a make.\n",
        "\n",
        "  y = pm.Binomial(\"y\", n = threes_att, p = thetas, observed = threes_made)\n"
      ],
      "execution_count": 4,
      "outputs": []
    },
    {
      "cell_type": "code",
      "metadata": {
        "id": "1YecFaVdviJH"
      },
      "source": [
        "# This line expresses the above model in plate notation, which allows us to examine\n",
        "# the structure of the model.\n",
        "\n",
        "pm.model_to_graphviz(threes_model)"
      ],
      "execution_count": null,
      "outputs": []
    },
    {
      "cell_type": "code",
      "metadata": {
        "id": "jEywsrbbwM1E"
      },
      "source": [
        "# Sampling the posterior given our data. It's in a separate cell in case we want\n",
        "# to revise our model after examining it in plate notation.\n",
        "\n",
        "with threes_model:\n",
        "    trace = pm.sample(75000, tune=5000, chains=2)"
      ],
      "execution_count": null,
      "outputs": []
    },
    {
      "cell_type": "code",
      "metadata": {
        "id": "QypDNxPJQVKX"
      },
      "source": [
        "az.summary(trace)"
      ],
      "execution_count": null,
      "outputs": []
    },
    {
      "cell_type": "code",
      "metadata": {
        "id": "4-BPqrNfQgYk"
      },
      "source": [
        "az.plot_trace(trace)"
      ],
      "execution_count": null,
      "outputs": []
    },
    {
      "cell_type": "code",
      "metadata": {
        "id": "yxiv1O3hUeev"
      },
      "source": [
        "df2 = pd.DataFrame(trace.thetas)\n",
        "df2.columns = players\n"
      ],
      "execution_count": 8,
      "outputs": []
    },
    {
      "cell_type": "code",
      "metadata": {
        "id": "sLDz8HSZUwcl"
      },
      "source": [
        "df2.mean().sort_values(ascending=False).head(30)"
      ],
      "execution_count": null,
      "outputs": []
    },
    {
      "cell_type": "code",
      "metadata": {
        "id": "U27iZIy72ddk"
      },
      "source": [
        "sns.histplot(df2['Luka Doncic'])"
      ],
      "execution_count": null,
      "outputs": []
    }
  ]
}